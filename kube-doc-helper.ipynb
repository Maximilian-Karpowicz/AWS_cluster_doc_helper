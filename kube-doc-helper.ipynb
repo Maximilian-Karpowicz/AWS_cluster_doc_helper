{
 "cells": [
  {
   "cell_type": "markdown",
   "metadata": {},
   "source": [
    "This is a notebook by Maxx Karpowicz with help from Benjamin Onucki.\n",
    "\n",
    "This is used to automate the process of creating documentation on different clusters and what services they are running."
   ]
  },
  {
   "cell_type": "code",
   "execution_count": 20,
   "metadata": {},
   "outputs": [
    {
     "name": "stdout",
     "output_type": "stream",
     "text": [
      "Added new context arn:aws:eks:ca-central-1:309394642168:cluster/argo-hms-interceptor-qa_90bf to /Users/lua/.kube/config\n",
      "Added new context arn:aws:eks:ca-central-1:309394642168:cluster/argo-hms-interceptor-qa_90bf to /Users/lua/.kube/config\n",
      "Added new context arn:aws:eks:ca-central-1:309394642168:cluster/argo_blackpearl_dev_bb8e to /Users/lua/.kube/config\n",
      "Added new context arn:aws:eks:ca-central-1:309394642168:cluster/argo_blackpearl_dev_bb8e to /Users/lua/.kube/config\n",
      "Added new context arn:aws:eks:ca-central-1:309394642168:cluster/argo_dev_8bd6 to /Users/lua/.kube/config\n",
      "Added new context arn:aws:eks:ca-central-1:309394642168:cluster/argo_dev_8bd6 to /Users/lua/.kube/config\n",
      "Added new context arn:aws:eks:ca-central-1:309394642168:cluster/argocd_dev_c6f6 to /Users/lua/.kube/config\n",
      "Added new context arn:aws:eks:ca-central-1:309394642168:cluster/argocd_dev_c6f6 to /Users/lua/.kube/config\n",
      "Added new context arn:aws:eks:ca-central-1:309394642168:cluster/devops_dev_vault_ent_1939 to /Users/lua/.kube/config\n",
      "Added new context arn:aws:eks:ca-central-1:309394642168:cluster/devops_dev_vault_ent_1939 to /Users/lua/.kube/config\n",
      "Added new context arn:aws:eks:ca-central-1:309394642168:cluster/eks-blueprint-test_cc70 to /Users/lua/.kube/config\n",
      "Added new context arn:aws:eks:ca-central-1:309394642168:cluster/eks-blueprint-test_cc70 to /Users/lua/.kube/config\n",
      "Added new context arn:aws:eks:ca-central-1:309394642168:cluster/sonarqube_dev_0e5b to /Users/lua/.kube/config\n",
      "Added new context arn:aws:eks:ca-central-1:309394642168:cluster/sonarqube_dev_0e5b to /Users/lua/.kube/config\n"
     ]
    }
   ],
   "source": [
    "import numpy as np\n",
    "import pandas as pd\n",
    "import os\n",
    "\n",
    "\n",
    "####REQUIERED INFORMATION####\n",
    "# Enter the general account name that has access to the clusters.\n",
    "account_name = \"\"\n",
    "# For different AMIs enter option 2 for getting credentials.\n",
    "login_info = [\"\"\"\"\"\", \"\"\"\"\"\"]\n",
    "# Region that the clusters are located in.\n",
    "region = \"\"\n",
    "#############################\n",
    "for index, info in enumerate(login_info):\n",
    "    login_info[index] = info.split()[1:]\n",
    "\n",
    "id = [login_info[0][0][18:], login_info[1][0][18:]]\n",
    "key = [login_info[0][1][22:], login_info[1][1][22:]]\n",
    "toke = [login_info[0][2][18:], login_info[1][2][18:]]\n",
    "\n",
    "!aws configure set aws_access_key_id {id[0]}\n",
    "!aws configure set aws_secret_access_key {key[0]}\n",
    "!aws configure set aws_session_token {toke[0]}\n",
    "!aws configure set default.region {region}\n",
    "\n",
    "import re\n",
    "cluster_names = !aws eks list-clusters\n",
    "cluster_names = str(cluster_names)\n",
    "cluster_names = re.findall(r'\"([^\"]*)\"', cluster_names)\n",
    "if \"clusters\" in cluster_names:\n",
    "    cluster_names.remove(\"clusters\")\n",
    "\n",
    "data = [1,2,3,4]\n",
    "for cluster_name in cluster_names:\n",
    "    for count,i in enumerate(id):\n",
    "        !aws configure set aws_access_key_id {id[count]}\n",
    "        !aws configure set aws_secret_access_key {key[count]}\n",
    "        !aws configure set aws_session_token {toke[count]}\n",
    "        !aws configure set default.region {region}\n",
    "        !rm ~/.kube/config\n",
    "        !aws eks update-kubeconfig --name {cluster_name} --region ca-central-1\n",
    "        name_spaces = !kubectl get ns --no-headers -o custom-columns=\":metadata.name\"\n",
    "        if \"error\" not in name_spaces[0]:\n",
    "          for name_space in name_spaces:\n",
    "              services = !kubectl get pods -n {name_space} --no-headers -o custom-columns=\":metadata.name\"\n",
    "              data_point = [account_name, cluster_name, name_space, str(services)]\n",
    "              data += data_point\n",
    "table = np.array(data[4:]).reshape(int(len(data[4:])/4),4)\n",
    "df = pd.DataFrame(table, columns=[\"account\", \"cluster\", \"namespace\", \"services\"])\n",
    "df.to_csv(f\"./doc_{account_name}.csv\")"
   ]
  }
 ],
 "metadata": {
  "kernelspec": {
   "display_name": "Python 3.8.9 ('venv': venv)",
   "language": "python",
   "name": "python3"
  },
  "language_info": {
   "codemirror_mode": {
    "name": "ipython",
    "version": 3
   },
   "file_extension": ".py",
   "mimetype": "text/x-python",
   "name": "python",
   "nbconvert_exporter": "python",
   "pygments_lexer": "ipython3",
   "version": "3.8.9"
  },
  "orig_nbformat": 4,
  "vscode": {
   "interpreter": {
    "hash": "8727ba2f318bfac1a8e4ef770f048645b1de1ef70b1387e2dc4ac562f4bdf4c4"
   }
  }
 },
 "nbformat": 4,
 "nbformat_minor": 2
}
